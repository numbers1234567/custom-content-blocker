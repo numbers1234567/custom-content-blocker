{
 "cells": [
  {
   "cell_type": "markdown",
   "metadata": {},
   "source": [
    "## Step 1: Extract from Database\n",
    "\n",
    "Set the database paramaters as environment variables: do NOT enter them here."
   ]
  },
  {
   "cell_type": "code",
   "execution_count": 1,
   "metadata": {},
   "outputs": [],
   "source": [
    "import psycopg2\n",
    "import os\n",
    "\n",
    "_POSTGRES_DB_NAME = os.environ[\"CONTENT_CURATION_POSTGRES_DB_NAME\"]\n",
    "_POSTGRES_DB_USER = os.environ[\"CONTENT_CURATION_POSTGRES_USER\"]\n",
    "_POSTGRES_DB_PASS = os.environ[\"CONTENT_CURATION_POSTGRES_PASSWORD\"]\n",
    "_POSTGRES_DB_HOST = os.environ[\"CONTENT_CURATION_POSTGRES_HOST\"]\n",
    "_POSTGRES_DB_PORT = os.environ[\"CONTENT_CURATION_POSTGRES_PORT\"]\n",
    "\n",
    "POSTGRES_DB_URL = f'postgres://{_POSTGRES_DB_USER}:{_POSTGRES_DB_PASS}@{_POSTGRES_DB_HOST}:{_POSTGRES_DB_PORT}/{_POSTGRES_DB_NAME}'"
   ]
  },
  {
   "cell_type": "code",
   "execution_count": 2,
   "metadata": {},
   "outputs": [],
   "source": [
    "day_seconds = 24*60*60\n",
    "week_seconds = day_seconds * 7\n",
    "month_seconds = day_seconds * 30\n",
    "year_seconds = day_seconds * 365\n",
    "season_seconds = year_seconds // 4"
   ]
  },
  {
   "cell_type": "code",
   "execution_count": 3,
   "metadata": {},
   "outputs": [],
   "source": [
    "recent_topic_seconds = week_seconds\n",
    "old_topic_seconds = year_seconds"
   ]
  },
  {
   "cell_type": "code",
   "execution_count": 4,
   "metadata": {},
   "outputs": [],
   "source": [
    "import time\n",
    "current_time = time.time()"
   ]
  },
  {
   "cell_type": "markdown",
   "metadata": {},
   "source": [
    "### Collect Candidate N-Grams"
   ]
  },
  {
   "cell_type": "code",
   "execution_count": null,
   "metadata": {},
   "outputs": [],
   "source": [
    "with psycopg2.connect(POSTGRES_DB_URL) as conn:\n",
    "    cur = conn.cursor()\n",
    "\n",
    "    cur.execute(\"\"\"\n",
    "        SELECT COUNT(*)\n",
    "        FROM doc_freq NATURAL JOIN social_post_data\n",
    "        WHERE create_utc >= %s AND create_utc < %s;\n",
    "    \"\"\", (current_time - recent_topic_seconds, current_time))\n",
    "    num_recent, = cur.fetchone()\n",
    "    cur.execute(\"\"\"\n",
    "        SELECT COUNT(*)\n",
    "        FROM doc_freq NATURAL JOIN social_post_data\n",
    "        WHERE create_utc >= %s AND create_utc < %s;\n",
    "    \"\"\", (current_time - old_topic_seconds, current_time - recent_topic_seconds))\n",
    "    num_old, = cur.fetchone()\n",
    "num_old,num_recent"
   ]
  },
  {
   "cell_type": "code",
   "execution_count": 6,
   "metadata": {},
   "outputs": [],
   "source": [
    "from dataclasses import dataclass\n",
    "from typing import Any\n",
    "\n",
    "with psycopg2.connect(POSTGRES_DB_URL) as conn:\n",
    "    cur = conn.cursor()\n",
    "\n",
    "    cur.execute(\"\"\"\n",
    "        SELECT n_gram, SUM(freq)\n",
    "        FROM doc_freq NATURAL JOIN social_post_data\n",
    "        WHERE create_utc >= %s AND create_utc < %s\n",
    "        GROUP BY n_gram, num_tokens\n",
    "        HAVING ((SUM(freq) >= 2 AND num_tokens >= 4) \n",
    "             OR (SUM(freq) >= 4 AND num_tokens >= 3) \n",
    "             OR (SUM(freq) >= 6 AND num_tokens >= 2)\n",
    "             OR (SUM(freq) >= 8 AND num_tokens >= 1)) \n",
    "            AND n_gram NOT IN (\n",
    "                SELECT n_gram\n",
    "                FROM doc_freq NATURAL JOIN social_post_data\n",
    "                WHERE create_utc >= %s AND create_utc < %s\n",
    "                GROUP BY n_gram, num_tokens\n",
    "                HAVING (SUM(freq) >= 2 AND num_tokens >= 4) \n",
    "                    OR (SUM(freq) >= 4 AND num_tokens >= 3) \n",
    "                    OR (SUM(freq) >= 6 AND num_tokens >= 2)\n",
    "                    OR (SUM(freq) >= 8 AND num_tokens >= 1)\n",
    "        );\n",
    "    \"\"\", (current_time-recent_topic_seconds, current_time, current_time-old_topic_seconds, current_time-recent_topic_seconds))\n",
    "\n",
    "    candidate_topics = cur.fetchall()"
   ]
  },
  {
   "cell_type": "code",
   "execution_count": null,
   "metadata": {},
   "outputs": [],
   "source": [
    "sorted([(i,j) for j,i in candidate_topics])"
   ]
  },
  {
   "cell_type": "markdown",
   "metadata": {},
   "source": [
    "## Step 2: Manually insert into DB"
   ]
  },
  {
   "cell_type": "code",
   "execution_count": 24,
   "metadata": {},
   "outputs": [],
   "source": [
    "from typing import List\n",
    "import random\n",
    "\n",
    "def insert_emerging_topic(topic_name : str, create_time : int, date_start : int, date_end : int, forbidden : List[str], _retries=10, verbose=True):\n",
    "    whitelist_characters = \"qwertyuiopasdfghjklzxcvbnmQWERTYUIOPASDFGHJKLZXCVBNM\"\n",
    "    with psycopg2.connect(POSTGRES_DB_URL) as conn:\n",
    "        cur = conn.cursor()\n",
    "        cur.execute(\"\"\"\n",
    "            SELECT MAX(topic_id) FROM emerging_topic;\n",
    "        \"\"\")\n",
    "        result = cur.fetchone()\n",
    "        add_id = result[0]+1 if result[0]!=None else 0\n",
    "        topic_key = \"\".join([random.choice(whitelist_characters) for _ in range(40)])\n",
    "\n",
    "        try:\n",
    "            cur.execute(\"\"\"\n",
    "                INSERT INTO emerging_topic (topic_id, topic_name, topic_key, create_utc, date_start, date_end)\n",
    "                VALUES (%s, %s, %s, %s, %s, %s);\n",
    "            \"\"\", (add_id, topic_name, topic_key, create_time, date_start, date_end))\n",
    "        except psycopg2.IntegrityError as e:\n",
    "            if verbose:\n",
    "                print(f\"Failed to insert {topic_name}. Retries left: {_retries}\")\n",
    "                print(\"   Message\" + str(e))\n",
    "            if _retries > 0: return insert_emerging_topic(topic_name, create_time, date_start, date_end, forbidden, _retries=_retries-1, verbose=verbose)\n",
    "            else: raise Exception(f\"Failed to insert {topic_name}. No more retries left\")\n",
    "        for ngram in forbidden:\n",
    "            cur.execute(\"\"\"\n",
    "                INSERT INTO emerging_topic_ngram (topic_id, ngram)\n",
    "                VALUES (%s, %s);\n",
    "            \"\"\", (add_id, ngram))\n",
    "        conn.commit()\n",
    "        cur.close()"
   ]
  },
  {
   "cell_type": "code",
   "execution_count": 25,
   "metadata": {},
   "outputs": [],
   "source": [
    "insert_emerging_topic(\"MrBeast\", current_time, current_time-old_topic_seconds, current_time-recent_topic_seconds, [\"mrbeast\"])"
   ]
  }
 ],
 "metadata": {
  "kernelspec": {
   "display_name": "content-curator-curator",
   "language": "python",
   "name": "python3"
  },
  "language_info": {
   "codemirror_mode": {
    "name": "ipython",
    "version": 3
   },
   "file_extension": ".py",
   "mimetype": "text/x-python",
   "name": "python",
   "nbconvert_exporter": "python",
   "pygments_lexer": "ipython3",
   "version": "3.10.0"
  }
 },
 "nbformat": 4,
 "nbformat_minor": 2
}

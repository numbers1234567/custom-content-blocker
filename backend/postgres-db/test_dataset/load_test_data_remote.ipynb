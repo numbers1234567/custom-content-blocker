{
 "cells": [
  {
   "cell_type": "markdown",
   "metadata": {},
   "source": [
    "# Load test data into a remote database"
   ]
  },
  {
   "cell_type": "code",
   "execution_count": null,
   "metadata": {},
   "outputs": [],
   "source": [
    "import os\n",
    "\n",
    "DB_NAME = os.environ[\"CONTENT_CURATION_POSTGRES_DB_NAME\"]\n",
    "DB_USER = os.environ[\"CONTENT_CURATION_POSTGRES_USER\"]\n",
    "DB_PASS = os.environ[\"CONTENT_CURATION_POSTGRES_PASSWORD\"]\n",
    "DB_HOST = os.environ[\"CONTENT_CURATION_POSTGRES_HOST\"]\n",
    "DB_PORT = os.environ[\"CONTENT_CURATION_POSTGRES_PORT\"]\n",
    "DATABASE_URL = f'postgres://{DB_USER}:{DB_PASS}@{DB_HOST}:{DB_PORT}/{DB_NAME}'"
   ]
  },
  {
   "cell_type": "code",
   "execution_count": null,
   "metadata": {},
   "outputs": [],
   "source": [
    "import psycopg2\n",
    "conn = psycopg2.connect(DATABASE_URL)"
   ]
  },
  {
   "cell_type": "code",
   "execution_count": null,
   "metadata": {},
   "outputs": [],
   "source": [
    "import pandas as pd\n",
    "\n",
    "df = pd.read_csv(\"test_post_data.csv\", delimiter=\"\\t\")"
   ]
  },
  {
   "cell_type": "code",
   "execution_count": null,
   "metadata": {},
   "outputs": [],
   "source": [
    "cur = conn.cursor()\n",
    "for idx,content in df.iterrows():\n",
    "    cur.execute(\"\"\"\n",
    "        INSERT INTO social_post_data (internal_id, post_id, title, embed_html, create_utc) \n",
    "            VALUES (%s, %s, %s, %s, %s);\n",
    "    \"\"\", (content[\"internal_id\"], content[\"post_id\"], content[\"text\"], content[\"embed_html\"], content[\"create_utc\"]))\n",
    "conn.commit()"
   ]
  },
  {
   "cell_type": "code",
   "execution_count": null,
   "metadata": {},
   "outputs": [],
   "source": [
    "cur = conn.cursor()\n",
    "\n",
    "cur.execute(\"\"\"\n",
    "    SELECT MAX(internal_id)\n",
    "    FROM social_post_data\n",
    "\"\"\")\n",
    "max_id = cur.fetchone()\n",
    "max_id"
   ]
  },
  {
   "cell_type": "code",
   "execution_count": null,
   "metadata": {},
   "outputs": [],
   "source": [
    "from collections.abc import Iterable\n",
    "\n",
    "df = pd.read_csv(\"test_blip_data.csv\", delimiter=\"\\t\")\n",
    "\n",
    "for idx,content in df.iterrows():\n",
    "    cur.execute(\"\"\"\n",
    "        INSERT INTO blip_features (internal_id, features)\n",
    "            VALUES (%s, %s);\n",
    "    \"\"\", (content[\"internal_id\"], content[\"features\"]))"
   ]
  },
  {
   "cell_type": "code",
   "execution_count": null,
   "metadata": {},
   "outputs": [],
   "source": [
    "df = pd.read_csv(\"test_user_data.csv\", delimiter=\"\\t\")\n",
    "\n",
    "for idx,content in df.iterrows():\n",
    "    cur.execute(\"\"\"\n",
    "        INSERT INTO user_credentials (user_id, create_utc, email)\n",
    "            VALUES (%s, %s, %s);\n",
    "    \"\"\", (content[\"user_id\"], content[\"create_utc\"], content[\"email\"]))"
   ]
  },
  {
   "cell_type": "code",
   "execution_count": null,
   "metadata": {},
   "outputs": [],
   "source": [
    "df = pd.read_csv(\"test_curation_data.csv\", delimiter=\"\\t\")\n",
    "\n",
    "for idx,content in df.iterrows():\n",
    "    cur.execute(\"\"\"\n",
    "        INSERT INTO curation_modes (primary_user, curation_id, curation_name, curation_key, create_utc)\n",
    "            VALUES (%s, %s, %s, %s, %s);\n",
    "    \"\"\", (content[\"primary_user\"], content[\"curation_id\"], content[\"curation_name\"], content[\"curation_key\"], content[\"create_utc\"]))"
   ]
  },
  {
   "cell_type": "code",
   "execution_count": null,
   "metadata": {},
   "outputs": [],
   "source": [
    "df = pd.read_csv(\"test_blip_heads.csv\", delimiter=\"\\t\")\n",
    "\n",
    "for idx,content in df.iterrows():\n",
    "    cur.execute(\"\"\"\n",
    "        INSERT INTO blip_curation_heads (curation_id, weight1, weight2, bias1, bias2)\n",
    "            VALUES (%s, %s, %s, %s, %s);\n",
    "    \"\"\", (content[\"curation_id\"], content[\"weight1\"], content[\"weight2\"], content[\"bias1\"], content[\"bias2\"]))"
   ]
  },
  {
   "cell_type": "code",
   "execution_count": null,
   "metadata": {},
   "outputs": [],
   "source": [
    "df = pd.read_csv(\"test_emerging_topics.csv\", delimiter=\"\\t\")\n",
    "\n",
    "for idx,content in df.iterrows():\n",
    "    cur.execute(\"\"\"\n",
    "        INSERT INTO emerging_topic (topic_id, topic_name, topic_key, create_utc, date_start, date_end)\n",
    "            VALUES (%s, %s, %s, %s, %s, %s);\n",
    "    \"\"\", (content[\"topic_id\"], content[\"topic_name\"], content[\"topic_key\"], content[\"create_utc\"], content[\"date_start\"], content[\"date_end\"]))"
   ]
  },
  {
   "cell_type": "code",
   "execution_count": null,
   "metadata": {},
   "outputs": [],
   "source": [
    "df = pd.read_csv(\"test_emerging_topic_ngram.csv\", delimiter=\"\\t\")\n",
    "\n",
    "for idx,content in df.iterrows():\n",
    "    cur.execute(\"\"\"\n",
    "        INSERT INTO emerging_topic_ngram (topic_id, ngram)\n",
    "            VALUES (%s, %s);\n",
    "    \"\"\", (content[\"topic_id\"], content[\"ngram\"]))"
   ]
  },
  {
   "cell_type": "code",
   "execution_count": null,
   "metadata": {},
   "outputs": [],
   "source": [
    "df = pd.read_csv(\"test_emerging_topic_regex.csv\", delimiter=\"\\t\")\n",
    "\n",
    "for idx,content in df.iterrows():\n",
    "    cur.execute(\"\"\"\n",
    "        INSERT INTO emerging_topic_regex (topic_id, regex)\n",
    "            VALUES (%s, %s);\n",
    "    \"\"\", (content[\"topic_id\"], content[\"regex\"]))"
   ]
  },
  {
   "cell_type": "code",
   "execution_count": null,
   "metadata": {},
   "outputs": [],
   "source": [
    "conn.commit()"
   ]
  },
  {
   "cell_type": "code",
   "execution_count": null,
   "metadata": {},
   "outputs": [],
   "source": [
    "cur.close()\n",
    "conn.close()"
   ]
  },
  {
   "cell_type": "code",
   "execution_count": null,
   "metadata": {},
   "outputs": [],
   "source": []
  }
 ],
 "metadata": {
  "kernelspec": {
   "display_name": "social-media-db-manager",
   "language": "python",
   "name": "python3"
  },
  "language_info": {
   "codemirror_mode": {
    "name": "ipython",
    "version": 3
   },
   "file_extension": ".py",
   "mimetype": "text/x-python",
   "name": "python",
   "nbconvert_exporter": "python",
   "pygments_lexer": "ipython3",
   "version": "3.10.0"
  }
 },
 "nbformat": 4,
 "nbformat_minor": 2
}

{
 "cells": [
  {
   "cell_type": "code",
   "execution_count": null,
   "metadata": {},
   "outputs": [],
   "source": [
    "import pandas as pd\n",
    "import random\n",
    "\n",
    "main_df = pd.read_csv(\"../datasets/main.csv\", delimiter=\"\\t\")"
   ]
  },
  {
   "cell_type": "code",
   "execution_count": null,
   "metadata": {},
   "outputs": [],
   "source": [
    "def validation(df:pd.DataFrame,x,y) -> pd.DataFrame:\n",
    "    df = df.copy()\n",
    "    neg_idx,pos_idx = list(df[df[\"label\"]==0][\"ID\"]),list(df[df[\"label\"]==1][\"ID\"])\n",
    "\n",
    "    num_neg,num_pos = round(len(neg_idx)*x),round(len(pos_idx)*y)\n",
    "    neg_valid,pos_valid = random.sample(neg_idx, len(neg_idx)-num_neg),random.sample(pos_idx,len(pos_idx)-num_pos)\n",
    "\n",
    "    for i in neg_valid: df.loc[i,\"split\"] = \"valid\"\n",
    "    for i in pos_valid: df.loc[i,\"split\"] = \"valid\"\n",
    "    return df"
   ]
  },
  {
   "cell_type": "code",
   "execution_count": null,
   "metadata": {},
   "outputs": [],
   "source": [
    "params = [\n",
    "    (0.01,0.01),\n",
    "    (0.02,0.02),\n",
    "    (0.05,0.05),\n",
    "    (0.1,0.1),\n",
    "    (0.2,0.2),\n",
    "    (0.5,0.5),\n",
    "    (0.6,0.6),\n",
    "    (0.7,0.7),\n",
    "    (0.8,0.8),\n",
    "    (0.9,0.9),\n",
    "    (1,0.01),\n",
    "    (1,0.02),\n",
    "    (1,0.05),\n",
    "    (1,0.1),\n",
    "    (1,0.2),\n",
    "    (1,0.5),\n",
    "    (1,0.6),\n",
    "    (1,0.7),\n",
    "    (1,0.8),\n",
    "    (1,0.9),\n",
    "]"
   ]
  },
  {
   "cell_type": "code",
   "execution_count": null,
   "metadata": {},
   "outputs": [],
   "source": [
    "for x,y in params:\n",
    "    df = validation(main_df,x,y)\n",
    "    df.to_csv(f\"../datasets/main_val_{x}_{y}.csv\", sep=\"\\t\")"
   ]
  },
  {
   "cell_type": "code",
   "execution_count": null,
   "metadata": {},
   "outputs": [],
   "source": []
  }
 ],
 "metadata": {
  "kernelspec": {
   "display_name": "custom_content_blocker",
   "language": "python",
   "name": "python3"
  },
  "language_info": {
   "codemirror_mode": {
    "name": "ipython",
    "version": 3
   },
   "file_extension": ".py",
   "mimetype": "text/x-python",
   "name": "python",
   "nbconvert_exporter": "python",
   "pygments_lexer": "ipython3",
   "version": "3.11.0"
  }
 },
 "nbformat": 4,
 "nbformat_minor": 2
}

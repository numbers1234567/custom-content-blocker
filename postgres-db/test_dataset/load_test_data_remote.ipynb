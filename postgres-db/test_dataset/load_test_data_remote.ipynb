{
 "cells": [
  {
   "cell_type": "markdown",
   "metadata": {},
   "source": [
    "# Load test data into a remote database"
   ]
  },
  {
   "cell_type": "code",
   "execution_count": 1,
   "metadata": {},
   "outputs": [],
   "source": [
    "import os\n",
    "\n",
    "DB_NAME = os.environ[\"CONTENT_CURATION_POSTGRES_DB_NAME\"]\n",
    "DB_USER = os.environ[\"CONTENT_CURATION_POSTGRES_USER\"]\n",
    "DB_PASS = os.environ[\"CONTENT_CURATION_POSTGRES_PASSWORD\"]\n",
    "DB_HOST = os.environ[\"CONTENT_CURATION_POSTGRES_HOST\"]\n",
    "DB_PORT = os.environ[\"CONTENT_CURATION_POSTGRES_PORT\"]\n",
    "DATABASE_URL = f'postgres://{DB_USER}:{DB_PASS}@{DB_HOST}:{DB_PORT}/{DB_NAME}'"
   ]
  },
  {
   "cell_type": "code",
   "execution_count": 2,
   "metadata": {},
   "outputs": [],
   "source": [
    "import psycopg2\n",
    "conn = psycopg2.connect(DATABASE_URL)"
   ]
  },
  {
   "cell_type": "code",
   "execution_count": 3,
   "metadata": {},
   "outputs": [],
   "source": [
    "import pandas as pd\n",
    "\n",
    "df = pd.read_csv(\"test_post_data.csv\", delimiter=\"\\t\")"
   ]
  },
  {
   "cell_type": "code",
   "execution_count": 4,
   "metadata": {},
   "outputs": [],
   "source": [
    "cur = conn.cursor()\n",
    "for idx,content in df.iterrows():\n",
    "    cur.execute(\"\"\"\n",
    "        INSERT INTO social_post_data (internal_id, post_id, title, embed_html, create_utc) \n",
    "            VALUES (%s, %s, %s, %s, %s);\n",
    "    \"\"\", (content[\"internal_id\"], content[\"post_id\"], content[\"text\"], content[\"embed_html\"], content[\"create_utc\"]))\n",
    "conn.commit()"
   ]
  },
  {
   "cell_type": "code",
   "execution_count": 5,
   "metadata": {},
   "outputs": [
    {
     "data": {
      "text/plain": [
       "(99,)"
      ]
     },
     "execution_count": 5,
     "metadata": {},
     "output_type": "execute_result"
    }
   ],
   "source": [
    "cur = conn.cursor()\n",
    "\n",
    "cur.execute(\"\"\"\n",
    "    SELECT MAX(internal_id)\n",
    "    FROM social_post_data\n",
    "\"\"\")\n",
    "max_id = cur.fetchone()\n",
    "max_id"
   ]
  },
  {
   "cell_type": "code",
   "execution_count": 5,
   "metadata": {},
   "outputs": [],
   "source": [
    "from collections.abc import Iterable\n",
    "\n",
    "df = pd.read_csv(\"test_blip_data.csv\", delimiter=\"\\t\")\n",
    "\n",
    "for idx,content in df.iterrows():\n",
    "    cur.execute(\"\"\"\n",
    "        INSERT INTO blip_features (internal_id, features)\n",
    "            VALUES (%s, %s);\n",
    "    \"\"\", (content[\"internal_id\"], content[\"features\"]))"
   ]
  },
  {
   "cell_type": "code",
   "execution_count": 6,
   "metadata": {},
   "outputs": [],
   "source": [
    "df = pd.read_csv(\"test_user_data.csv\", delimiter=\"\\t\")\n",
    "\n",
    "for idx,content in df.iterrows():\n",
    "    cur.execute(\"\"\"\n",
    "        INSERT INTO user_credentials (user_id, create_utc, email)\n",
    "            VALUES (%s, %s, %s);\n",
    "    \"\"\", (content[\"user_id\"], content[\"create_utc\"], content[\"email\"]))"
   ]
  },
  {
   "cell_type": "code",
   "execution_count": 8,
   "metadata": {},
   "outputs": [],
   "source": [
    "df = pd.read_csv(\"test_curation_data.csv\", delimiter=\"\\t\")\n",
    "\n",
    "for idx,content in df.iterrows():\n",
    "    cur.execute(\"\"\"\n",
    "        INSERT INTO curation_modes (primary_user, curation_id, curation_name, curation_key, create_utc)\n",
    "            VALUES (%s, %s, %s, %s, %s);\n",
    "    \"\"\", (content[\"primary_user\"], content[\"curation_id\"], content[\"curation_name\"], content[\"curation_key\"], content[\"create_utc\"]))"
   ]
  },
  {
   "cell_type": "code",
   "execution_count": 9,
   "metadata": {},
   "outputs": [],
   "source": [
    "df = pd.read_csv(\"test_blip_heads.csv\", delimiter=\"\\t\")\n",
    "\n",
    "for idx,content in df.iterrows():\n",
    "    cur.execute(\"\"\"\n",
    "        INSERT INTO blip_curation_heads (curation_id, weight1, weight2, bias1, bias2)\n",
    "            VALUES (%s, %s, %s, %s, %s);\n",
    "    \"\"\", (content[\"curation_id\"], content[\"weight1\"], content[\"weight2\"], content[\"bias1\"], content[\"bias2\"]))"
   ]
  },
  {
   "cell_type": "code",
   "execution_count": 10,
   "metadata": {},
   "outputs": [],
   "source": [
    "conn.commit()"
   ]
  },
  {
   "cell_type": "code",
   "execution_count": 11,
   "metadata": {},
   "outputs": [],
   "source": [
    "conn.close()\n",
    "cur.close()"
   ]
  },
  {
   "cell_type": "code",
   "execution_count": null,
   "metadata": {},
   "outputs": [],
   "source": []
  }
 ],
 "metadata": {
  "kernelspec": {
   "display_name": "social-media-db-manager",
   "language": "python",
   "name": "python3"
  },
  "language_info": {
   "codemirror_mode": {
    "name": "ipython",
    "version": 3
   },
   "file_extension": ".py",
   "mimetype": "text/x-python",
   "name": "python",
   "nbconvert_exporter": "python",
   "pygments_lexer": "ipython3",
   "version": "3.10.0"
  }
 },
 "nbformat": 4,
 "nbformat_minor": 2
}

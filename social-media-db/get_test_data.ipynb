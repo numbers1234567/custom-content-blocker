{
 "cells": [
  {
   "cell_type": "code",
   "execution_count": 1,
   "metadata": {},
   "outputs": [],
   "source": [
    "import praw\n",
    "import os\n",
    "\n",
    "reddit = praw.Reddit(\n",
    "    client_id=os.environ[\"REDDIT_API_CLIENT_ID\"],\n",
    "    client_secret=os.environ[\"REDDIT_API_CLIENT_SECRET\"],\n",
    "    password=os.environ[\"REDDIT_API_PASSWORD\"],\n",
    "    user_agent=os.environ[\"REDDIT_API_USER_AGENT\"],\n",
    "    username=os.environ[\"REDDIT_API_USERNAME\"],\n",
    ")"
   ]
  },
  {
   "cell_type": "code",
   "execution_count": 2,
   "metadata": {},
   "outputs": [],
   "source": [
    "import requests\n",
    "import json\n",
    "\n",
    "def get_html_embed(permalink : str):\n",
    "    reformatted_url = f\"https://www.reddit.com{permalink}\"\n",
    "    \n",
    "    reformatted_url.replace(\":\", \"%3A\").replace(\"/\", \"%2F\")\n",
    "    return json.loads(requests.get(f'https://www.reddit.com/oembed?url={reformatted_url}').content)[\"html\"]"
   ]
  },
  {
   "cell_type": "code",
   "execution_count": 3,
   "metadata": {},
   "outputs": [
    {
     "data": {
      "text/plain": [
       "<praw.models.listing.generator.ListingGenerator at 0x21ad14f49b0>"
      ]
     },
     "execution_count": 3,
     "metadata": {},
     "output_type": "execute_result"
    }
   ],
   "source": [
    "popular = reddit.subreddit(\"popular\").hot(limit=100)\n",
    "popular"
   ]
  },
  {
   "cell_type": "code",
   "execution_count": 4,
   "metadata": {},
   "outputs": [],
   "source": [
    "import time\n",
    "with open(\"test_post_data.csv\", \"w+\") as f:\n",
    "    f.write(\"id\\thtml_embed\\tcreated\\n\")\n",
    "    for post in popular:\n",
    "        f.write(f\"{\"https://www.reddit.com\"+post.permalink}\\t{get_html_embed(post.permalink).replace(\"\\n\", \"\")}\\t{post.created_utc}\\n\")\n",
    "        time.sleep(2)"
   ]
  },
  {
   "cell_type": "code",
   "execution_count": null,
   "metadata": {},
   "outputs": [],
   "source": []
  }
 ],
 "metadata": {
  "kernelspec": {
   "display_name": "social-media-db-manager",
   "language": "python",
   "name": "python3"
  },
  "language_info": {
   "codemirror_mode": {
    "name": "ipython",
    "version": 3
   },
   "file_extension": ".py",
   "mimetype": "text/x-python",
   "name": "python",
   "nbconvert_exporter": "python",
   "pygments_lexer": "ipython3",
   "version": "3.12.0"
  }
 },
 "nbformat": 4,
 "nbformat_minor": 2
}

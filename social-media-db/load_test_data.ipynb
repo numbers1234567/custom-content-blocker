{
 "cells": [
  {
   "cell_type": "code",
   "execution_count": 33,
   "metadata": {},
   "outputs": [],
   "source": [
    "import os\n",
    "\n",
    "DB_NAME = os.environ[\"CONTENT_CURATION_POSTGRES_DB_NAME\"]\n",
    "DB_USER = os.environ[\"CONTENT_CURATION_POSTGRES_USER\"]\n",
    "DB_PASS = os.environ[\"CONTENT_CURATION_POSTGRES_PASSWORD\"]\n",
    "DB_HOST = os.environ[\"CONTENT_CURATION_POSTGRES_HOST\"]\n",
    "DB_PORT = os.environ[\"CONTENT_CURATION_POSTGRES_PORT\"]\n",
    "DATABASE_URL = f'postgres://{DB_USER}:{DB_PASS}@{DB_HOST}:{DB_PORT}/{DB_NAME}'"
   ]
  },
  {
   "cell_type": "code",
   "execution_count": 34,
   "metadata": {},
   "outputs": [],
   "source": [
    "import psycopg2\n",
    "conn = psycopg2.connect(DATABASE_URL)"
   ]
  },
  {
   "cell_type": "code",
   "execution_count": 35,
   "metadata": {},
   "outputs": [],
   "source": [
    "import pandas as pd\n",
    "\n",
    "df = pd.read_csv(\"test_post_data.csv\", delimiter=\"\\t\")"
   ]
  },
  {
   "cell_type": "code",
   "execution_count": 36,
   "metadata": {},
   "outputs": [],
   "source": [
    "cur = conn.cursor()\n",
    "for idx,content in df.iterrows():\n",
    "    cur.execute(\"\"\"\n",
    "        INSERT INTO SOCIAL_MEDIA_POSTS (post_id, embed_html, create_utc) \n",
    "            VALUES ('%s', '%s', %s);\n",
    "    \"\"\" % (content[\"id\"], content[\"html_embed\"], content[\"created\"]))"
   ]
  },
  {
   "cell_type": "code",
   "execution_count": 38,
   "metadata": {},
   "outputs": [],
   "source": [
    "conn.commit()"
   ]
  },
  {
   "cell_type": "code",
   "execution_count": 39,
   "metadata": {},
   "outputs": [],
   "source": [
    "cur.close()\n",
    "conn.close()"
   ]
  },
  {
   "cell_type": "code",
   "execution_count": null,
   "metadata": {},
   "outputs": [],
   "source": []
  }
 ],
 "metadata": {
  "kernelspec": {
   "display_name": "social-media-db-manager",
   "language": "python",
   "name": "python3"
  },
  "language_info": {
   "codemirror_mode": {
    "name": "ipython",
    "version": 3
   },
   "file_extension": ".py",
   "mimetype": "text/x-python",
   "name": "python",
   "nbconvert_exporter": "python",
   "pygments_lexer": "ipython3",
   "version": "3.12.0"
  }
 },
 "nbformat": 4,
 "nbformat_minor": 2
}
